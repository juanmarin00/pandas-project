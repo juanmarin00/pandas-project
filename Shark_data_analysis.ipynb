{
 "cells": [
  {
   "cell_type": "markdown",
   "metadata": {},
   "source": [
    "***Shark Attack dataset analysis***\n",
    "\n",
    "**Intro:**<br />\n",
    "We have been provided with a dataset which contains data on thousands of shark attacks. This data includes dates, location,resulting injuries and gender of victims amongst many other categories. Our job as Data Analysts (upcoming data analysts) is to clean this data set using our newly learn skills and use this cleaned up data to draw a hypothesis of our choice.\n",
    "\n",
    "**Hypothesis:**<br />\n",
    "We need a hypothesis or theory to prove or contradict with our observations. In todays case the hypothesis which we will prove is: \n",
    "\"Despite the change in perception of sharks and shark attacks after the release of the movie \"JAWS\" by Steven Spielberg the actual mortality of these attacks did not increase.\"\n",
    "\n",
    "**Cleaning the dataset:**<br />\n",
    "As previously mentioned, the provided dataset was rather unpleasant to work with, therefore a lot of data cleaning had to take place (all of the changes made to the dataset can be found on the file data_cleaning.ipynb). Here is a brief description of the procedures taken:\n",
    "1: After having imported the initial dataset and understanding the information it provided us with we first renamed the columns using a regex as they didnt follow a common sytactical pattern, so we changed this.<br />\n",
    "2: Next we deleted the columns which we thought wouldnt be useful for our hypothesis as these gave us information which was redundant or provided in other columns already.<br />\n",
    "3: After this we deleted the reduntant rows of our dataset which were created when importing it.<br />\n",
    "4: Next up we repeated step 2 to narrow down te amount of colums to work with.<br />\n",
    "5: Once step 4 was completed we identified the columns whose data needed fixing.<br />\n",
    "6: Finally once all this was done we exported our modified dataset as a new csv file to work with in our analysis.\n"
   ]
  },
  {
   "cell_type": "code",
   "execution_count": 28,
   "metadata": {},
   "outputs": [],
   "source": [
    "#Import libraries\n",
    "import pandas as pd\n",
    "import numpy as np\n",
    "import seaborn as sns\n",
    "import matplotlib.pyplot as plt\n"
   ]
  },
  {
   "cell_type": "code",
   "execution_count": 29,
   "metadata": {},
   "outputs": [
    {
     "data": {
      "text/html": [
       "<div>\n",
       "<style scoped>\n",
       "    .dataframe tbody tr th:only-of-type {\n",
       "        vertical-align: middle;\n",
       "    }\n",
       "\n",
       "    .dataframe tbody tr th {\n",
       "        vertical-align: top;\n",
       "    }\n",
       "\n",
       "    .dataframe thead th {\n",
       "        text-align: right;\n",
       "    }\n",
       "</style>\n",
       "<table border=\"1\" class=\"dataframe\">\n",
       "  <thead>\n",
       "    <tr style=\"text-align: right;\">\n",
       "      <th></th>\n",
       "      <th>Year</th>\n",
       "      <th>Age</th>\n",
       "    </tr>\n",
       "  </thead>\n",
       "  <tbody>\n",
       "    <tr>\n",
       "      <td>count</td>\n",
       "      <td>6300.000000</td>\n",
       "      <td>3369.000000</td>\n",
       "    </tr>\n",
       "    <tr>\n",
       "      <td>mean</td>\n",
       "      <td>1927.272381</td>\n",
       "      <td>27.368359</td>\n",
       "    </tr>\n",
       "    <tr>\n",
       "      <td>std</td>\n",
       "      <td>281.116308</td>\n",
       "      <td>13.907779</td>\n",
       "    </tr>\n",
       "    <tr>\n",
       "      <td>min</td>\n",
       "      <td>0.000000</td>\n",
       "      <td>1.000000</td>\n",
       "    </tr>\n",
       "    <tr>\n",
       "      <td>25%</td>\n",
       "      <td>1942.000000</td>\n",
       "      <td>17.000000</td>\n",
       "    </tr>\n",
       "    <tr>\n",
       "      <td>50%</td>\n",
       "      <td>1977.000000</td>\n",
       "      <td>24.000000</td>\n",
       "    </tr>\n",
       "    <tr>\n",
       "      <td>75%</td>\n",
       "      <td>2005.000000</td>\n",
       "      <td>35.000000</td>\n",
       "    </tr>\n",
       "    <tr>\n",
       "      <td>max</td>\n",
       "      <td>2018.000000</td>\n",
       "      <td>87.000000</td>\n",
       "    </tr>\n",
       "  </tbody>\n",
       "</table>\n",
       "</div>"
      ],
      "text/plain": [
       "              Year          Age\n",
       "count  6300.000000  3369.000000\n",
       "mean   1927.272381    27.368359\n",
       "std     281.116308    13.907779\n",
       "min       0.000000     1.000000\n",
       "25%    1942.000000    17.000000\n",
       "50%    1977.000000    24.000000\n",
       "75%    2005.000000    35.000000\n",
       "max    2018.000000    87.000000"
      ]
     },
     "execution_count": 29,
     "metadata": {},
     "output_type": "execute_result"
    }
   ],
   "source": [
    "#Import dataset\n",
    "df = pd.read_csv('shark_dom_noche.csv')\n",
    "df.describe()"
   ]
  },
  {
   "cell_type": "code",
   "execution_count": 30,
   "metadata": {},
   "outputs": [
    {
     "data": {
      "text/html": [
       "<div>\n",
       "<style scoped>\n",
       "    .dataframe tbody tr th:only-of-type {\n",
       "        vertical-align: middle;\n",
       "    }\n",
       "\n",
       "    .dataframe tbody tr th {\n",
       "        vertical-align: top;\n",
       "    }\n",
       "\n",
       "    .dataframe thead th {\n",
       "        text-align: right;\n",
       "    }\n",
       "</style>\n",
       "<table border=\"1\" class=\"dataframe\">\n",
       "  <thead>\n",
       "    <tr style=\"text-align: right;\">\n",
       "      <th></th>\n",
       "      <th>Year</th>\n",
       "      <th>Type</th>\n",
       "      <th>Country</th>\n",
       "      <th>Area</th>\n",
       "      <th>Activity</th>\n",
       "      <th>Sex</th>\n",
       "      <th>Fatal</th>\n",
       "      <th>Age</th>\n",
       "    </tr>\n",
       "  </thead>\n",
       "  <tbody>\n",
       "    <tr>\n",
       "      <td>0</td>\n",
       "      <td>2018.0</td>\n",
       "      <td>Boating</td>\n",
       "      <td>USA</td>\n",
       "      <td>California</td>\n",
       "      <td>Paddling</td>\n",
       "      <td>F</td>\n",
       "      <td>N</td>\n",
       "      <td>57.0</td>\n",
       "    </tr>\n",
       "    <tr>\n",
       "      <td>1</td>\n",
       "      <td>2018.0</td>\n",
       "      <td>Unprovoked</td>\n",
       "      <td>USA</td>\n",
       "      <td>Georgia</td>\n",
       "      <td>Standing</td>\n",
       "      <td>F</td>\n",
       "      <td>N</td>\n",
       "      <td>11.0</td>\n",
       "    </tr>\n",
       "    <tr>\n",
       "      <td>2</td>\n",
       "      <td>2018.0</td>\n",
       "      <td>NaN</td>\n",
       "      <td>USA</td>\n",
       "      <td>Hawaii</td>\n",
       "      <td>Surfing</td>\n",
       "      <td>M</td>\n",
       "      <td>N</td>\n",
       "      <td>48.0</td>\n",
       "    </tr>\n",
       "    <tr>\n",
       "      <td>3</td>\n",
       "      <td>2018.0</td>\n",
       "      <td>Unprovoked</td>\n",
       "      <td>AUSTRALIA</td>\n",
       "      <td>New South Wales</td>\n",
       "      <td>Surfing</td>\n",
       "      <td>M</td>\n",
       "      <td>N</td>\n",
       "      <td>NaN</td>\n",
       "    </tr>\n",
       "    <tr>\n",
       "      <td>4</td>\n",
       "      <td>2018.0</td>\n",
       "      <td>Provoked</td>\n",
       "      <td>MEXICO</td>\n",
       "      <td>Colima</td>\n",
       "      <td>Free diving</td>\n",
       "      <td>M</td>\n",
       "      <td>N</td>\n",
       "      <td>NaN</td>\n",
       "    </tr>\n",
       "  </tbody>\n",
       "</table>\n",
       "</div>"
      ],
      "text/plain": [
       "     Year        Type    Country             Area     Activity Sex Fatal   Age\n",
       "0  2018.0     Boating        USA       California     Paddling   F     N  57.0\n",
       "1  2018.0  Unprovoked        USA          Georgia     Standing   F     N  11.0\n",
       "2  2018.0         NaN        USA           Hawaii      Surfing   M     N  48.0\n",
       "3  2018.0  Unprovoked  AUSTRALIA  New South Wales      Surfing   M     N   NaN\n",
       "4  2018.0    Provoked     MEXICO           Colima  Free diving   M     N   NaN"
      ]
     },
     "execution_count": 30,
     "metadata": {},
     "output_type": "execute_result"
    }
   ],
   "source": [
    "#Inspect data\n",
    "df.head(5)"
   ]
  },
  {
   "cell_type": "markdown",
   "metadata": {},
   "source": [
    "**Plot some data**"
   ]
  },
  {
   "cell_type": "code",
   "execution_count": 31,
   "metadata": {},
   "outputs": [
    {
     "data": {
      "text/plain": [
       "<matplotlib.axes._subplots.AxesSubplot at 0x7fc43df22518>"
      ]
     },
     "execution_count": 31,
     "metadata": {},
     "output_type": "execute_result"
    },
    {
     "data": {
      "image/png": "[encoded data removed]",
      "text/plain": [
       "<Figure size 432x288 with 1 Axes>"
      ]
     },
     "metadata": {
      "needs_background": "light"
     },
     "output_type": "display_data"
    }
   ],
   "source": [
    "#Distribution of age of victims of all shark attacks\n",
    "sns.histplot(x = df.Age)"
   ]
  },
  {
   "cell_type": "code",
   "execution_count": 32,
   "metadata": {},
   "outputs": [
    {
     "data": {
      "text/plain": [
       "<matplotlib.axes._subplots.AxesSubplot at 0x7fc43e2b2b00>"
      ]
     },
     "execution_count": 32,
     "metadata": {},
     "output_type": "execute_result"
    },
    {
     "data": {
      "image/png": "[encoded data removed]",
      "text/plain": [
       "<Figure size 432x288 with 1 Axes>"
      ]
     },
     "metadata": {
      "needs_background": "light"
     },
     "output_type": "display_data"
    }
   ],
   "source": [
    "#Distribution of gender of victims and wether the attacks were fatal\n",
    "sns.countplot(x = df.Fatal, hue = df.Sex)"
   ]
  },
  {
   "cell_type": "code",
   "execution_count": 34,
   "metadata": {},
   "outputs": [
    {
     "data": {
      "text/plain": [
       "<matplotlib.axes._subplots.AxesSubplot at 0x7fc43e326b38>"
      ]
     },
     "execution_count": 34,
     "metadata": {},
     "output_type": "execute_result"
    },
    {
     "data": {
      "image/png": "[encoded data removed]",
      "text/plain": [
       "<Figure size 432x288 with 1 Axes>"
      ]
     },
     "metadata": {
      "needs_background": "light"
     },
     "output_type": "display_data"
    }
   ],
   "source": [
    "#Plot of type of attacks\n",
    "#plt.figure(figsize=(20,10))\n",
    "sns.countplot(x = df.Type)"
   ]
  },
  {
   "cell_type": "code",
   "execution_count": 41,
   "metadata": {},
   "outputs": [
    {
     "name": "stdout",
     "output_type": "stream",
     "text": [
      "5690\n",
      "5690 1389 4301\n"
     ]
    }
   ],
   "source": [
    "#Lets find the count of values for fatal and non fatal attacks\n",
    "num_of_attacks = len(df[(df['Fatal'] == \"N\") | (df['Fatal'] == \"Y\")])\n",
    "fatal_attacks = len(df[(df['Fatal'] == \"Y\")])\n",
    "non_fatal_attacks = len(df[(df['Fatal'] == \"N\")])"
   ]
  },
  {
   "cell_type": "code",
   "execution_count": 47,
   "metadata": {},
   "outputs": [
    {
     "name": "stdout",
     "output_type": "stream",
     "text": [
      "2967 2599\n"
     ]
    }
   ],
   "source": [
    "#Number of attacks before 1975 whech are recorded as fatal or none fatal :\n",
    "attacks_pre = len(df[((df['Year'] < 1975) & (df['Year'] > 0)) & ((df['Fatal'] == \"N\") | (df['Fatal'] == \"Y\"))]) #>0 as these are documented without a year\n",
    "#Number of attacks after 1975:\n",
    "attacks_post = len(df[((df['Year'] >= 1975)) & ((df['Fatal'] == \"N\") | (df['Fatal'] == \"Y\"))])"
   ]
  },
  {
   "cell_type": "code",
   "execution_count": 61,
   "metadata": {},
   "outputs": [
    {
     "name": "stdout",
     "output_type": "stream",
     "text": [
      "988 1611\n",
      "341 2626\n"
     ]
    }
   ],
   "source": [
    "#Number of fatal attacks in each interval:\n",
    "fatal_pre = len(df[(df['Year'] < 1975) & (df['Year'] > 0) & (df['Fatal'] == \"Y\")]) #>0 as these are documented without a year\n",
    "non_fatal_pre = len(df[(df['Year'] < 1975) & (df['Year'] > 0) & (df['Fatal'] == \"N\")]) #>0 as these are documented without a year\n",
    "print(fatal_pre, non_fatal_pre)\n",
    "fatal_post = len(df[(df['Year'] >= 1975) & (df['Fatal'] == \"Y\")]) #>0 as these are documented without a year\n",
    "non_fatal_post = len(df[(df['Year'] >= 1975)& (df['Fatal'] == \"N\")]) #>0 as these are documented without a year\n",
    "print(fatal_post, non_fatal_post)\n"
   ]
  },
  {
   "cell_type": "code",
   "execution_count": 62,
   "metadata": {},
   "outputs": [
    {
     "name": "stdout",
     "output_type": "stream",
     "text": [
      "61.32836747361887 11.49309066397034\n"
     ]
    }
   ],
   "source": [
    "#Lets calculate percentages:\n",
    "pct_fatal_pre = fatal_pre/attacks_pre * 100\n",
    "pct_fatal_post = fatal_post/attacks_post * 100\n",
    "\n",
    "print(pct_fatal_pre, pct_fatal_post)\n"
   ]
  },
  {
   "cell_type": "markdown",
   "metadata": {},
   "source": [
    "**Lets add some MORE graphs to help our hypothesis:**"
   ]
  },
  {
   "cell_type": "code",
   "execution_count": 71,
   "metadata": {},
   "outputs": [
    {
     "data": {
      "text/plain": [
       "<matplotlib.axes._subplots.AxesSubplot at 0x7fc423b66be0>"
      ]
     },
     "execution_count": 71,
     "metadata": {},
     "output_type": "execute_result"
    },
    {
     "data": {
      "image/png": "[encoded data removed]",
      "text/plain": [
       "<Figure size 432x288 with 1 Axes>"
      ]
     },
     "metadata": {
      "needs_background": "light"
     },
     "output_type": "display_data"
    }
   ],
   "source": [
    "a = [0,1975,2018]\n",
    "sns.histplot(x = df.Year, hue = df.Fatal, bins = a, palette= \"Reds\")"
   ]
  },
  {
   "cell_type": "markdown",
   "metadata": {},
   "source": [
    "***Conclusion***\n"
   ]
  },
  {
   "cell_type": "markdown",
   "metadata": {},
   "source": [
    "Although the movie Jaws painted sharks as lethal dangerous predators and worsened their perception, as we can see by our data the percentage of lethal shark attacks before and after this movie was released is much lower. Meaning that once again that we had our image of sharks influenced by a movie rather than the data which proves that sharks are less dangerous with time and that the hate which the species received after the release of the movie were injustified."
   ]
  }
 ],
 "metadata": {
  "kernelspec": {
   "display_name": "Python 3",
   "language": "python",
   "name": "python3"
  },
  "language_info": {
   "codemirror_mode": {
    "name": "ipython",
    "version": 3
   },
   "file_extension": ".py",
   "mimetype": "text/x-python",
   "name": "python",
   "nbconvert_exporter": "python",
   "pygments_lexer": "ipython3",
   "version": "3.7.3"
  }
 },
 "nbformat": 4,
 "nbformat_minor": 2
}
